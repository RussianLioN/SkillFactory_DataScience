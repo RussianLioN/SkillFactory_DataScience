{
 "cells": [
  {
   "cell_type": "markdown",
   "metadata": {},
   "source": [
    "# Игра угадай число"
   ]
  },
  {
   "cell_type": "code",
   "execution_count": 1,
   "metadata": {},
   "outputs": [],
   "source": [
    "from game_v2 import random_predict\n",
    "from game_v3 import optimal_predict\n",
    "from game_v4 import game_core_v2\n",
    "from game_v4 import score_game"
   ]
  },
  {
   "cell_type": "markdown",
   "metadata": {},
   "source": [
    "## Угадываем рандомно"
   ]
  },
  {
   "cell_type": "code",
   "execution_count": 3,
   "metadata": {},
   "outputs": [
    {
     "name": "stdout",
     "output_type": "stream",
     "text": [
      "Ваш алгоритм угадывает число в среднем за: 100 попытки\n"
     ]
    }
   ],
   "source": [
    "score_game(random_predict)"
   ]
  },
  {
   "cell_type": "markdown",
   "metadata": {},
   "source": [
    "## Угадываем с коррекцией диапазона"
   ]
  },
  {
   "cell_type": "code",
   "execution_count": 4,
   "metadata": {},
   "outputs": [
    {
     "name": "stdout",
     "output_type": "stream",
     "text": [
      "Ваш алгоритм угадывает число в среднем за: 8 попытки\n"
     ]
    }
   ],
   "source": [
    "score_game(game_core_v2)"
   ]
  },
  {
   "cell_type": "markdown",
   "metadata": {},
   "source": [
    "## Угадываем оптимально"
   ]
  },
  {
   "cell_type": "code",
   "execution_count": 5,
   "metadata": {},
   "outputs": [
    {
     "name": "stdout",
     "output_type": "stream",
     "text": [
      "Ваш алгоритм угадывает число в среднем за: 5 попытки\n"
     ]
    }
   ],
   "source": [
    "score_game(optimal_predict)"
   ]
  },
  {
   "cell_type": "markdown",
   "metadata": {},
   "source": [
    "## Сравниваем результаты алгоритмов"
   ]
  },
  {
   "cell_type": "code",
   "execution_count": 2,
   "metadata": {},
   "outputs": [
    {
     "name": "stdout",
     "output_type": "stream",
     "text": [
      "Алгоритм random_predict: \n",
      "Ваш алгоритм угадывает число в среднем за: 100 попытки\n",
      "Алгоритм game_core_v2: \n",
      "Ваш алгоритм угадывает число в среднем за: 8 попытки\n",
      "Алгоритм optimal_predict: \n"
     ]
    },
    {
     "ename": "KeyboardInterrupt",
     "evalue": "",
     "output_type": "error",
     "traceback": [
      "\u001b[0;31m---------------------------------------------------------------------------\u001b[0m",
      "\u001b[0;31mKeyboardInterrupt\u001b[0m                         Traceback (most recent call last)",
      "\u001b[1;32m/Users/rl/GoogleS060874/_DataScience /SkillFactory/guess-number-task/game.ipynb Cell 10'\u001b[0m in \u001b[0;36m<cell line: 6>\u001b[0;34m()\u001b[0m\n\u001b[1;32m      <a href='vscode-notebook-cell:/Users/rl/GoogleS060874/_DataScience%20/SkillFactory/guess-number-task/game.ipynb#ch0000009?line=3'>4</a>\u001b[0m score_game(game_core_v2)\n\u001b[1;32m      <a href='vscode-notebook-cell:/Users/rl/GoogleS060874/_DataScience%20/SkillFactory/guess-number-task/game.ipynb#ch0000009?line=4'>5</a>\u001b[0m \u001b[39mprint\u001b[39m(\u001b[39m'\u001b[39m\u001b[39mАлгоритм optimal_predict: \u001b[39m\u001b[39m'\u001b[39m)\n\u001b[0;32m----> <a href='vscode-notebook-cell:/Users/rl/GoogleS060874/_DataScience%20/SkillFactory/guess-number-task/game.ipynb#ch0000009?line=5'>6</a>\u001b[0m score_game(optimal_predict)\n",
      "File \u001b[0;32m~/GoogleS060874/_DataScience /SkillFactory/guess-number-task/game_v4.py:53\u001b[0m, in \u001b[0;36mscore_game\u001b[0;34m(game_core_v2)\u001b[0m\n\u001b[1;32m     <a href='file:///Users/rl/GoogleS060874/_DataScience%20/SkillFactory/guess-number-task/game_v4.py?line=49'>50</a>\u001b[0m random_array \u001b[39m=\u001b[39m np\u001b[39m.\u001b[39mrandom\u001b[39m.\u001b[39mrandint(\u001b[39m1\u001b[39m, \u001b[39m101\u001b[39m, size\u001b[39m=\u001b[39m(\u001b[39m10000\u001b[39m))  \u001b[39m# загадали списоконлайн переводчик чисел\u001b[39;00m\n\u001b[1;32m     <a href='file:///Users/rl/GoogleS060874/_DataScience%20/SkillFactory/guess-number-task/game_v4.py?line=51'>52</a>\u001b[0m \u001b[39mfor\u001b[39;00m number \u001b[39min\u001b[39;00m random_array:\n\u001b[0;32m---> <a href='file:///Users/rl/GoogleS060874/_DataScience%20/SkillFactory/guess-number-task/game_v4.py?line=52'>53</a>\u001b[0m     count_ls\u001b[39m.\u001b[39mappend(game_core_v2(number))\n\u001b[1;32m     <a href='file:///Users/rl/GoogleS060874/_DataScience%20/SkillFactory/guess-number-task/game_v4.py?line=54'>55</a>\u001b[0m score \u001b[39m=\u001b[39m \u001b[39mint\u001b[39m(np\u001b[39m.\u001b[39mmean(count_ls))\n\u001b[1;32m     <a href='file:///Users/rl/GoogleS060874/_DataScience%20/SkillFactory/guess-number-task/game_v4.py?line=55'>56</a>\u001b[0m \u001b[39mprint\u001b[39m(\u001b[39mf\u001b[39m\u001b[39m\"\u001b[39m\u001b[39mВаш алгоритм угадывает число в среднем за: \u001b[39m\u001b[39m{\u001b[39;00mscore\u001b[39m}\u001b[39;00m\u001b[39m попытки\u001b[39m\u001b[39m\"\u001b[39m)\n",
      "File \u001b[0;32m~/GoogleS060874/_DataScience /SkillFactory/guess-number-task/game_v3.py:32\u001b[0m, in \u001b[0;36moptimal_predict\u001b[0;34m(number)\u001b[0m\n\u001b[1;32m     <a href='file:///Users/rl/GoogleS060874/_DataScience%20/SkillFactory/guess-number-task/game_v3.py?line=29'>30</a>\u001b[0m count \u001b[39m+\u001b[39m\u001b[39m=\u001b[39m \u001b[39m1\u001b[39m\n\u001b[1;32m     <a href='file:///Users/rl/GoogleS060874/_DataScience%20/SkillFactory/guess-number-task/game_v3.py?line=30'>31</a>\u001b[0m mid_number \u001b[39m=\u001b[39m \u001b[39mround\u001b[39m((max_number\u001b[39m+\u001b[39mmin_number) \u001b[39m/\u001b[39m \u001b[39m2\u001b[39m) \u001b[39m# находим середину проверяемого диапазона        \u001b[39;00m\n\u001b[0;32m---> <a href='file:///Users/rl/GoogleS060874/_DataScience%20/SkillFactory/guess-number-task/game_v3.py?line=31'>32</a>\u001b[0m \u001b[39mif\u001b[39;00m number \u001b[39m>\u001b[39;49m mid_number:\n\u001b[1;32m     <a href='file:///Users/rl/GoogleS060874/_DataScience%20/SkillFactory/guess-number-task/game_v3.py?line=32'>33</a>\u001b[0m     min_number \u001b[39m=\u001b[39m mid_number \u001b[39m# задаем новую нижнюю границу диапазона\u001b[39;00m\n\u001b[1;32m     <a href='file:///Users/rl/GoogleS060874/_DataScience%20/SkillFactory/guess-number-task/game_v3.py?line=33'>34</a>\u001b[0m \u001b[39melif\u001b[39;00m number \u001b[39m<\u001b[39m mid_number:\n",
      "\u001b[0;31mKeyboardInterrupt\u001b[0m: "
     ]
    }
   ],
   "source": [
    "print('Алгоритм random_predict: ')\n",
    "score_game(random_predict)\n",
    "print('Алгоритм game_core_v2: ')\n",
    "score_game(game_core_v2)\n",
    "print('Алгоритм optimal_predict: ')\n",
    "score_game(optimal_predict)"
   ]
  }
 ],
 "metadata": {
  "interpreter": {
   "hash": "aee8b7b246df8f9039afb4144a1f6fd8d2ca17a180786b69acc140d282b71a49"
  },
  "kernelspec": {
   "display_name": "Python 3.9.12 64-bit",
   "language": "python",
   "name": "python3"
  },
  "language_info": {
   "codemirror_mode": {
    "name": "ipython",
    "version": 3
   },
   "file_extension": ".py",
   "mimetype": "text/x-python",
   "name": "python",
   "nbconvert_exporter": "python",
   "pygments_lexer": "ipython3",
   "version": "3.9.12"
  },
  "orig_nbformat": 4
 },
 "nbformat": 4,
 "nbformat_minor": 2
}
